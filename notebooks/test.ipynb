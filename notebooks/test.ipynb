{
 "cells": [
  {
   "cell_type": "code",
   "execution_count": 1,
   "id": "0fc9f6f5-054b-43c6-8a5e-e6bc9bdd2716",
   "metadata": {},
   "outputs": [],
   "source": [
    "ans1a = [1,2,\"sd\"]"
   ]
  },
  {
   "cell_type": "code",
   "execution_count": 2,
   "id": "cee2992d-c82a-4b49-b880-e2857e5ecc46",
   "metadata": {},
   "outputs": [
    {
     "data": {
      "text/plain": [
       "[1, 2, 'sd']"
      ]
     },
     "execution_count": 2,
     "metadata": {},
     "output_type": "execute_result"
    }
   ],
   "source": [
    "ans1a"
   ]
  },
  {
   "cell_type": "code",
   "execution_count": 3,
   "id": "8a9483ea-02b5-4dee-800a-c1338983e8c8",
   "metadata": {},
   "outputs": [
    {
     "name": "stdout",
     "output_type": "stream",
     "text": [
      "[1, 2, 'sd']\n"
     ]
    }
   ],
   "source": [
    "print(ans1a)"
   ]
  },
  {
   "cell_type": "code",
   "execution_count": 5,
   "id": "53e75f57-449d-4d96-9255-c8ec8cec7168",
   "metadata": {},
   "outputs": [
    {
     "data": {
      "text/plain": [
       "[2, 'sd']"
      ]
     },
     "execution_count": 5,
     "metadata": {},
     "output_type": "execute_result"
    }
   ],
   "source": [
    "ans1a[1:4]"
   ]
  },
  {
   "cell_type": "code",
   "execution_count": 11,
   "id": "64f8efe6-d9d8-4897-b0b7-b5675a7538d6",
   "metadata": {},
   "outputs": [],
   "source": [
    "test=\"Hola\""
   ]
  },
  {
   "cell_type": "code",
   "execution_count": 12,
   "id": "80f3ddbf-ccfe-4c63-890b-5c5faffe4e87",
   "metadata": {},
   "outputs": [
    {
     "name": "stdout",
     "output_type": "stream",
     "text": [
      "['H']\n"
     ]
    }
   ],
   "source": [
    "print(test[0].split())"
   ]
  },
  {
   "cell_type": "code",
   "execution_count": null,
   "id": "adc3ed85-480c-4918-9324-5c13d326d3a4",
   "metadata": {},
   "outputs": [],
   "source": []
  },
  {
   "cell_type": "code",
   "execution_count": null,
   "id": "39aea93a-362b-4dc7-be12-0291a334e32d",
   "metadata": {},
   "outputs": [],
   "source": []
  },
  {
   "cell_type": "code",
   "execution_count": null,
   "id": "73e8ea15-7de2-44ca-8629-809c9e01a098",
   "metadata": {},
   "outputs": [],
   "source": []
  },
  {
   "cell_type": "code",
   "execution_count": null,
   "id": "e6057e46-7f16-494e-b518-e018c7420c1b",
   "metadata": {},
   "outputs": [],
   "source": []
  }
 ],
 "metadata": {
  "kernelspec": {
   "display_name": "Python 3 (ipykernel)",
   "language": "python",
   "name": "python3"
  },
  "language_info": {
   "codemirror_mode": {
    "name": "ipython",
    "version": 3
   },
   "file_extension": ".py",
   "mimetype": "text/x-python",
   "name": "python",
   "nbconvert_exporter": "python",
   "pygments_lexer": "ipython3",
   "version": "3.12.4"
  }
 },
 "nbformat": 4,
 "nbformat_minor": 5
}
