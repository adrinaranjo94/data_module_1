{
 "cells": [
  {
   "cell_type": "code",
   "execution_count": 1,
   "id": "0fc9f6f5-054b-43c6-8a5e-e6bc9bdd2716",
   "metadata": {},
   "outputs": [],
   "source": [
    "ans1a = [1,2,\"sd\"]"
   ]
  },
  {
   "cell_type": "code",
   "execution_count": 2,
   "id": "cee2992d-c82a-4b49-b880-e2857e5ecc46",
   "metadata": {},
   "outputs": [
    {
     "data": {
      "text/plain": [
       "[1, 2, 'sd']"
      ]
     },
     "execution_count": 2,
     "metadata": {},
     "output_type": "execute_result"
    }
   ],
   "source": [
    "ans1a"
   ]
  },
  {
   "cell_type": "code",
   "execution_count": 3,
   "id": "8a9483ea-02b5-4dee-800a-c1338983e8c8",
   "metadata": {},
   "outputs": [
    {
     "name": "stdout",
     "output_type": "stream",
     "text": [
      "[1, 2, 'sd']\n"
     ]
    }
   ],
   "source": [
    "print(ans1a)"
   ]
  },
  {
   "cell_type": "code",
   "execution_count": 4,
   "id": "53e75f57-449d-4d96-9255-c8ec8cec7168",
   "metadata": {},
   "outputs": [
    {
     "data": {
      "text/plain": [
       "[2, 'sd']"
      ]
     },
     "execution_count": 4,
     "metadata": {},
     "output_type": "execute_result"
    }
   ],
   "source": [
    "ans1a[1:4]"
   ]
  },
  {
   "cell_type": "code",
   "execution_count": 5,
   "id": "64f8efe6-d9d8-4897-b0b7-b5675a7538d6",
   "metadata": {},
   "outputs": [],
   "source": [
    "test=\"Hola\""
   ]
  },
  {
   "cell_type": "code",
   "execution_count": 6,
   "id": "80f3ddbf-ccfe-4c63-890b-5c5faffe4e87",
   "metadata": {},
   "outputs": [
    {
     "name": "stdout",
     "output_type": "stream",
     "text": [
      "['H']\n"
     ]
    }
   ],
   "source": [
    "print(test[0].split())"
   ]
  },
  {
   "cell_type": "code",
   "execution_count": 7,
   "id": "adc3ed85-480c-4918-9324-5c13d326d3a4",
   "metadata": {},
   "outputs": [],
   "source": [
    "import numpy as np"
   ]
  },
  {
   "cell_type": "code",
   "execution_count": 8,
   "id": "39aea93a-362b-4dc7-be12-0291a334e32d",
   "metadata": {},
   "outputs": [
    {
     "data": {
      "text/plain": [
       "array([0, 1, 2, 3, 4, 5, 6, 7, 8, 9])"
      ]
     },
     "execution_count": 8,
     "metadata": {},
     "output_type": "execute_result"
    }
   ],
   "source": [
    "np.arange(10)"
   ]
  },
  {
   "cell_type": "code",
   "execution_count": 9,
   "id": "73e8ea15-7de2-44ca-8629-809c9e01a098",
   "metadata": {},
   "outputs": [],
   "source": [
    "z = np.zeros(shape=(2,3))"
   ]
  },
  {
   "cell_type": "code",
   "execution_count": 10,
   "id": "e6057e46-7f16-494e-b518-e018c7420c1b",
   "metadata": {},
   "outputs": [
    {
     "data": {
      "text/plain": [
       "array([[0., 0., 0.],\n",
       "       [0., 0., 0.]])"
      ]
     },
     "execution_count": 10,
     "metadata": {},
     "output_type": "execute_result"
    }
   ],
   "source": [
    "z"
   ]
  },
  {
   "cell_type": "code",
   "execution_count": 11,
   "id": "1c18c28a-f2e6-4222-8957-8691dc0bb617",
   "metadata": {},
   "outputs": [],
   "source": [
    "# Crear un arreglo unidimensional\n",
    "a = np.array([1, 2, 3, 4])\n",
    "\n",
    "# Crear un arreglo bidimensional\n",
    "b = np.array([[1, 2, 3], [4, 5, 6]])\n",
    "\n",
    "# Operaciones con arreglos\n",
    "suma = np.sum(a)\n",
    "media = np.mean(b)\n"
   ]
  },
  {
   "cell_type": "code",
   "execution_count": 12,
   "id": "6a02cc40-0a6b-4403-a238-151ec4feaec5",
   "metadata": {},
   "outputs": [
    {
     "data": {
      "text/plain": [
       "10"
      ]
     },
     "execution_count": 12,
     "metadata": {},
     "output_type": "execute_result"
    }
   ],
   "source": [
    "suma\n"
   ]
  },
  {
   "cell_type": "code",
   "execution_count": 13,
   "id": "f918fa5f-5fcc-43c4-ae80-d0a167416293",
   "metadata": {},
   "outputs": [
    {
     "data": {
      "text/plain": [
       "3.5"
      ]
     },
     "execution_count": 13,
     "metadata": {},
     "output_type": "execute_result"
    }
   ],
   "source": [
    "media"
   ]
  },
  {
   "cell_type": "code",
   "execution_count": 14,
   "id": "a6090a4d-9b33-434f-9c8b-4e64c1b14537",
   "metadata": {},
   "outputs": [
    {
     "data": {
      "text/plain": [
       "21"
      ]
     },
     "execution_count": 14,
     "metadata": {},
     "output_type": "execute_result"
    }
   ],
   "source": [
    "np.sum(b)"
   ]
  },
  {
   "cell_type": "code",
   "execution_count": null,
   "id": "a0b36cc1-ee11-4921-bd71-5ac01ef147ad",
   "metadata": {},
   "outputs": [],
   "source": []
  }
 ],
 "metadata": {
  "kernelspec": {
   "display_name": "Python 3 (ipykernel)",
   "language": "python",
   "name": "python3"
  }
 },
 "nbformat": 4,
 "nbformat_minor": 5
}
